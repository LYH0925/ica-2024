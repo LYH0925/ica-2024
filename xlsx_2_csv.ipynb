{
 "cells": [
  {
   "cell_type": "code",
   "execution_count": 29,
   "metadata": {},
   "outputs": [
    {
     "name": "stdout",
     "output_type": "stream",
     "text": [
      "转换成功，CSV文件已保存为: data_1.csv\n"
     ]
    }
   ],
   "source": [
    "import pandas as pd\n",
    "\n",
    "# read Excel file\n",
    "file_path = 'data.xlsx'  # Replace with your xlsx file path\n",
    "df = pd.read_excel(file_path)\n",
    "\n",
    "# 提取所需的两列并重命名列名\n",
    "df = df[['内容','1=支持中医黑 2=反对中医黑 0=无关']]  # 提取指定的两列\n",
    "df = df.rename(columns={'内容': 'content','1=支持中医黑 2=反对中医黑 0=无关':'label'})  # 重命名列名\n",
    "\n",
    "# 将DataFrame转换为CSV文件\n",
    "csv_file_path = 'data_1.csv'  # 替换为你想保存的csv文件路径\n",
    "df.to_csv(csv_file_path, index=False, encoding='utf-8-sig')\n",
    "\n",
    "print(f\"转换成功，CSV文件已保存为: {csv_file_path}\")\n"
   ]
  },
  {
   "cell_type": "code",
   "execution_count": 30,
   "metadata": {},
   "outputs": [
    {
     "name": "stdout",
     "output_type": "stream",
     "text": [
      "转换成功，CSV文件已保存为: data_2.csv\n"
     ]
    }
   ],
   "source": [
    "import pandas as pd\n",
    "\n",
    "# 读取Excel文件\n",
    "file_path = 'data.xlsx'  # 替换为你的xlsx文件路径\n",
    "df = pd.read_excel(file_path)\n",
    "\n",
    "# 提取所需的两列并重命名列名\n",
    "df = df[['内容','主题框架 1=科学论证 2=政治文化认同 3=阴谋论 0=无关']]  # 提取指定的两列\n",
    "df = df.rename(columns={'内容': 'content','主题框架 1=科学论证 2=政治文化认同 3=阴谋论 0=无关':'label'})  # 重命名列名\n",
    "\n",
    "# 将DataFrame转换为CSV文件\n",
    "csv_file_path = 'data_2.csv'  # 替换为你想保存的csv文件路径\n",
    "df.to_csv(csv_file_path, index=False, encoding='utf-8-sig')\n",
    "\n",
    "print(f\"转换成功，CSV文件已保存为: {csv_file_path}\")\n"
   ]
  },
  {
   "cell_type": "code",
   "execution_count": 1,
   "metadata": {},
   "outputs": [],
   "source": [
    "import pandas as pd\n",
    "\n",
    "# 读取csv文件\n",
    "df = pd.read_csv('data_2.csv', encoding='utf-8-sig')\n",
    "# 删除指定列中值为空的行（假设要检查的列名为'specific_column'）\n",
    "df_cleaned = df.dropna(subset=['label'])\n",
    "# 保存删除后的数据到一个新的csv文件\n",
    "df_cleaned.to_csv('data_2.csv', index=False, encoding='utf-8-sig')"
   ]
  },
  {
   "cell_type": "code",
   "execution_count": 2,
   "metadata": {},
   "outputs": [],
   "source": [
    "import pandas as pd\n",
    "\n",
    "# 读取csv文件\n",
    "df = pd.read_csv('data_2.csv', encoding='utf-8-sig')\n",
    "# 将指定列转换为数值类型，非数值的值会变为NaN\n",
    "df['label'] = pd.to_numeric(df['label'], errors='coerce')\n",
    "# 删除空值和非数值的行\n",
    "df_cleaned = df.dropna(subset=['label'])\n",
    "# 保存删除后的数据到一个新的csv文件\n",
    "df_cleaned.to_csv('data_2.csv', index=False, encoding='utf-8-sig')"
   ]
  },
  {
   "cell_type": "code",
   "execution_count": 1,
   "metadata": {},
   "outputs": [],
   "source": []
  },
  {
   "cell_type": "code",
   "execution_count": null,
   "metadata": {},
   "outputs": [],
   "source": []
  }
 ],
 "metadata": {
  "kernelspec": {
   "display_name": "trans",
   "language": "python",
   "name": "python3"
  },
  "language_info": {
   "codemirror_mode": {
    "name": "ipython",
    "version": 3
   },
   "file_extension": ".py",
   "mimetype": "text/x-python",
   "name": "python",
   "nbconvert_exporter": "python",
   "pygments_lexer": "ipython3",
   "version": "3.8.0"
  }
 },
 "nbformat": 4,
 "nbformat_minor": 2
}
